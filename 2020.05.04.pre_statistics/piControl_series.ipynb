{
 "cells": [
  {
   "cell_type": "code",
   "execution_count": null,
   "metadata": {},
   "outputs": [],
   "source": [
    "import xarray as xr\n",
    "filename = \"D:\\data\\cmip6-lumip\\pr_Amon_BCC-CSM2-MR_piControl_r1i1p1f1_gn_185001-244912.nc\"\n",
    "dset = xr.open_dataset(filename)\n",
    "print(dset)"
   ]
  },
  {
   "cell_type": "code",
   "execution_count": null,
   "metadata": {},
   "outputs": [],
   "source": [
    "print(dset['pr'])"
   ]
  },
  {
   "cell_type": "code",
   "execution_count": null,
   "metadata": {},
   "outputs": [],
   "source": []
  }
 ],
 "metadata": {
  "language_info": {
   "codemirror_mode": {
    "name": "ipython",
    "version": 3
   },
   "file_extension": ".py",
   "mimetype": "text/x-python",
   "name": "python",
   "nbconvert_exporter": "python",
   "pygments_lexer": "ipython3",
   "version": "3.7.7-final"
  },
  "orig_nbformat": 2,
  "kernelspec": {
   "name": "python37764bitlyscienceconda096cecfd77254d92a45c27c2c4034700",
   "display_name": "Python 3.7.7 64-bit ('lyscience': conda)"
  }
 },
 "nbformat": 4,
 "nbformat_minor": 2
}